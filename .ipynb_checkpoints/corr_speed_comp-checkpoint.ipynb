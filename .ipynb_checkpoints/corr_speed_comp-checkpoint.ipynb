{
 "cells": [
  {
   "cell_type": "code",
   "execution_count": 2,
   "metadata": {},
   "outputs": [],
   "source": [
    "import pandas as pd\n",
    "import wiggum as wg\n",
    "import numpy\n",
    "import os"
   ]
  },
  {
   "cell_type": "code",
   "execution_count": 5,
   "metadata": {},
   "outputs": [
    {
     "data": {
      "text/html": [
       "<div>\n",
       "<style scoped>\n",
       "    .dataframe tbody tr th:only-of-type {\n",
       "        vertical-align: middle;\n",
       "    }\n",
       "\n",
       "    .dataframe tbody tr th {\n",
       "        vertical-align: top;\n",
       "    }\n",
       "\n",
       "    .dataframe thead th {\n",
       "        text-align: right;\n",
       "    }\n",
       "</style>\n",
       "<table border=\"1\" class=\"dataframe\">\n",
       "  <thead>\n",
       "    <tr style=\"text-align: right;\">\n",
       "      <th></th>\n",
       "      <th>dtype</th>\n",
       "      <th>var_type</th>\n",
       "      <th>role</th>\n",
       "      <th>isCount</th>\n",
       "      <th>weighting_var</th>\n",
       "    </tr>\n",
       "    <tr>\n",
       "      <th>variable</th>\n",
       "      <th></th>\n",
       "      <th></th>\n",
       "      <th></th>\n",
       "      <th></th>\n",
       "      <th></th>\n",
       "    </tr>\n",
       "  </thead>\n",
       "  <tbody>\n",
       "    <tr>\n",
       "      <th>state</th>\n",
       "      <td>object</td>\n",
       "      <td>categorical</td>\n",
       "      <td>[independent, splitby]</td>\n",
       "      <td>False</td>\n",
       "      <td>NaN</td>\n",
       "    </tr>\n",
       "    <tr>\n",
       "      <th>year</th>\n",
       "      <td>int64</td>\n",
       "      <td>ordinal</td>\n",
       "      <td>[independent]</td>\n",
       "      <td>False</td>\n",
       "      <td>NaN</td>\n",
       "    </tr>\n",
       "    <tr>\n",
       "      <th>driver_gender</th>\n",
       "      <td>object</td>\n",
       "      <td>categorical</td>\n",
       "      <td>[independent, splitby]</td>\n",
       "      <td>False</td>\n",
       "      <td>NaN</td>\n",
       "    </tr>\n",
       "    <tr>\n",
       "      <th>driver_race</th>\n",
       "      <td>object</td>\n",
       "      <td>categorical</td>\n",
       "      <td>[independent, splitby]</td>\n",
       "      <td>False</td>\n",
       "      <td>NaN</td>\n",
       "    </tr>\n",
       "    <tr>\n",
       "      <th>decriminalization</th>\n",
       "      <td>int64</td>\n",
       "      <td>categorical</td>\n",
       "      <td>[splitby]</td>\n",
       "      <td>False</td>\n",
       "      <td>NaN</td>\n",
       "    </tr>\n",
       "    <tr>\n",
       "      <th>medical</th>\n",
       "      <td>int64</td>\n",
       "      <td>categorical</td>\n",
       "      <td>[splitby]</td>\n",
       "      <td>False</td>\n",
       "      <td>NaN</td>\n",
       "    </tr>\n",
       "    <tr>\n",
       "      <th>recreational</th>\n",
       "      <td>int64</td>\n",
       "      <td>categorical</td>\n",
       "      <td>[splitby]</td>\n",
       "      <td>False</td>\n",
       "      <td>NaN</td>\n",
       "    </tr>\n",
       "    <tr>\n",
       "      <th>no_reforms</th>\n",
       "      <td>int64</td>\n",
       "      <td>False</td>\n",
       "      <td>[splitby]</td>\n",
       "      <td>False</td>\n",
       "      <td>NaN</td>\n",
       "    </tr>\n",
       "    <tr>\n",
       "      <th>search_conducted_false</th>\n",
       "      <td>float64</td>\n",
       "      <td>continuous</td>\n",
       "      <td>[ignore]</td>\n",
       "      <td>True</td>\n",
       "      <td>NaN</td>\n",
       "    </tr>\n",
       "    <tr>\n",
       "      <th>search_conducted_true</th>\n",
       "      <td>float64</td>\n",
       "      <td>continuous</td>\n",
       "      <td>[ignore]</td>\n",
       "      <td>True</td>\n",
       "      <td>NaN</td>\n",
       "    </tr>\n",
       "    <tr>\n",
       "      <th>search_conducted_rate</th>\n",
       "      <td>float64</td>\n",
       "      <td>continuous</td>\n",
       "      <td>[dependent]</td>\n",
       "      <td>False</td>\n",
       "      <td>num_stops</td>\n",
       "    </tr>\n",
       "    <tr>\n",
       "      <th>contraband_found_false</th>\n",
       "      <td>float64</td>\n",
       "      <td>continuous</td>\n",
       "      <td>[ignore]</td>\n",
       "      <td>True</td>\n",
       "      <td>NaN</td>\n",
       "    </tr>\n",
       "    <tr>\n",
       "      <th>contraband_found_true</th>\n",
       "      <td>float64</td>\n",
       "      <td>continuous</td>\n",
       "      <td>[ignore]</td>\n",
       "      <td>True</td>\n",
       "      <td>NaN</td>\n",
       "    </tr>\n",
       "    <tr>\n",
       "      <th>contraband_found_rate</th>\n",
       "      <td>float64</td>\n",
       "      <td>continuous</td>\n",
       "      <td>[dependent]</td>\n",
       "      <td>False</td>\n",
       "      <td>num_stops</td>\n",
       "    </tr>\n",
       "    <tr>\n",
       "      <th>hit_false</th>\n",
       "      <td>float64</td>\n",
       "      <td>continuous</td>\n",
       "      <td>[ignore]</td>\n",
       "      <td>True</td>\n",
       "      <td>NaN</td>\n",
       "    </tr>\n",
       "    <tr>\n",
       "      <th>hit_true</th>\n",
       "      <td>float64</td>\n",
       "      <td>continuous</td>\n",
       "      <td>[ignore]</td>\n",
       "      <td>True</td>\n",
       "      <td>NaN</td>\n",
       "    </tr>\n",
       "    <tr>\n",
       "      <th>hit_rate</th>\n",
       "      <td>float64</td>\n",
       "      <td>continuous</td>\n",
       "      <td>[dependent]</td>\n",
       "      <td>False</td>\n",
       "      <td>search_conducted_true</td>\n",
       "    </tr>\n",
       "    <tr>\n",
       "      <th>num_stops</th>\n",
       "      <td>float64</td>\n",
       "      <td>continuous</td>\n",
       "      <td>[dependent]</td>\n",
       "      <td>True</td>\n",
       "      <td>NaN</td>\n",
       "    </tr>\n",
       "  </tbody>\n",
       "</table>\n",
       "</div>"
      ],
      "text/plain": [
       "                          dtype     var_type                    role  isCount  \\\n",
       "variable                                                                        \n",
       "state                    object  categorical  [independent, splitby]    False   \n",
       "year                      int64      ordinal           [independent]    False   \n",
       "driver_gender            object  categorical  [independent, splitby]    False   \n",
       "driver_race              object  categorical  [independent, splitby]    False   \n",
       "decriminalization         int64  categorical               [splitby]    False   \n",
       "medical                   int64  categorical               [splitby]    False   \n",
       "recreational              int64  categorical               [splitby]    False   \n",
       "no_reforms                int64        False               [splitby]    False   \n",
       "search_conducted_false  float64   continuous                [ignore]     True   \n",
       "search_conducted_true   float64   continuous                [ignore]     True   \n",
       "search_conducted_rate   float64   continuous             [dependent]    False   \n",
       "contraband_found_false  float64   continuous                [ignore]     True   \n",
       "contraband_found_true   float64   continuous                [ignore]     True   \n",
       "contraband_found_rate   float64   continuous             [dependent]    False   \n",
       "hit_false               float64   continuous                [ignore]     True   \n",
       "hit_true                float64   continuous                [ignore]     True   \n",
       "hit_rate                float64   continuous             [dependent]    False   \n",
       "num_stops               float64   continuous             [dependent]     True   \n",
       "\n",
       "                                weighting_var  \n",
       "variable                                       \n",
       "state                                     NaN  \n",
       "year                                      NaN  \n",
       "driver_gender                             NaN  \n",
       "driver_race                               NaN  \n",
       "decriminalization                         NaN  \n",
       "medical                                   NaN  \n",
       "recreational                              NaN  \n",
       "no_reforms                                NaN  \n",
       "search_conducted_false                    NaN  \n",
       "search_conducted_true                     NaN  \n",
       "search_conducted_rate               num_stops  \n",
       "contraband_found_false                    NaN  \n",
       "contraband_found_true                     NaN  \n",
       "contraband_found_rate               num_stops  \n",
       "hit_false                                 NaN  \n",
       "hit_true                                  NaN  \n",
       "hit_rate                search_conducted_true  \n",
       "num_stops                                 NaN  "
      ]
     },
     "execution_count": 5,
     "metadata": {},
     "output_type": "execute_result"
    }
   ],
   "source": [
    "labeled_df = wg.LabeledDataFrame('data/ldf_state_hit_rate_min_cols_COCTFLILMDMAMOMTNENCOHRISCTXVTWAWI')\n",
    "labeled_df.meta_df"
   ]
  },
  {
   "cell_type": "code",
   "execution_count": 22,
   "metadata": {},
   "outputs": [
    {
     "data": {
      "text/plain": [
       "[('year', 'search_conducted_rate'),\n",
       " ('year', 'contraband_found_rate'),\n",
       " ('year', 'hit_rate'),\n",
       " ('year', 'num_stops')]"
      ]
     },
     "execution_count": 22,
     "metadata": {},
     "output_type": "execute_result"
    }
   ],
   "source": [
    "pearson = wg.All_Pearson()\n",
    "pearson.get_trend_vars(labeled_df)\n",
    "pearson.regression_vars"
   ]
  },
  {
   "cell_type": "code",
   "execution_count": 23,
   "metadata": {},
   "outputs": [
    {
     "data": {
      "text/plain": [
       "False"
      ]
     },
     "execution_count": 23,
     "metadata": {},
     "output_type": "execute_result"
    }
   ],
   "source": [
    "pearson.symmetric_vars"
   ]
  },
  {
   "cell_type": "code",
   "execution_count": 25,
   "metadata": {},
   "outputs": [
    {
     "name": "stdout",
     "output_type": "stream",
     "text": [
      "3.78 ms ± 83.1 µs per loop (mean ± std. dev. of 7 runs, 100 loops each)\n"
     ]
    }
   ],
   "source": [
    "# source code\n",
    "%timeit labeled_df.get_subgroup_trends_1lev([pearson])"
   ]
  },
  {
   "cell_type": "code",
   "execution_count": 29,
   "metadata": {},
   "outputs": [
    {
     "name": "stdout",
     "output_type": "stream",
     "text": [
      "3.9 ms ± 300 µs per loop (mean ± std. dev. of 7 runs, 100 loops each)\n"
     ]
    }
   ],
   "source": [
    "# source code\n",
    "%timeit labeled_df.get_subgroup_trends_1lev([pearson])"
   ]
  },
  {
   "cell_type": "code",
   "execution_count": 30,
   "metadata": {},
   "outputs": [
    {
     "name": "stdout",
     "output_type": "stream",
     "text": [
      "3.96 ms ± 245 µs per loop (mean ± std. dev. of 7 runs, 100 loops each)\n"
     ]
    }
   ],
   "source": [
    "# source code\n",
    "%timeit labeled_df.get_subgroup_trends_1lev([pearson])"
   ]
  },
  {
   "cell_type": "code",
   "execution_count": 31,
   "metadata": {},
   "outputs": [
    {
     "name": "stdout",
     "output_type": "stream",
     "text": [
      "3.85 ms ± 77.9 µs per loop (mean ± std. dev. of 7 runs, 100 loops each)\n"
     ]
    }
   ],
   "source": [
    "# Shines code\n",
    "%timeit labeled_df.get_subgroup_trends_1lev([pearson])"
   ]
  },
  {
   "cell_type": "code",
   "execution_count": 32,
   "metadata": {},
   "outputs": [
    {
     "name": "stdout",
     "output_type": "stream",
     "text": [
      "3.81 ms ± 73.1 µs per loop (mean ± std. dev. of 7 runs, 100 loops each)\n"
     ]
    }
   ],
   "source": [
    "# Shines code\n",
    "%timeit labeled_df.get_subgroup_trends_1lev([pearson])"
   ]
  },
  {
   "cell_type": "code",
   "execution_count": 33,
   "metadata": {},
   "outputs": [
    {
     "name": "stdout",
     "output_type": "stream",
     "text": [
      "3.87 ms ± 61.8 µs per loop (mean ± std. dev. of 7 runs, 100 loops each)\n"
     ]
    }
   ],
   "source": [
    "# Shines code\n",
    "%timeit labeled_df.get_subgroup_trends_1lev([pearson])"
   ]
  }
 ],
 "metadata": {
  "kernelspec": {
   "display_name": "Python 3",
   "language": "python",
   "name": "python3"
  },
  "language_info": {
   "codemirror_mode": {
    "name": "ipython",
    "version": 3
   },
   "file_extension": ".py",
   "mimetype": "text/x-python",
   "name": "python",
   "nbconvert_exporter": "python",
   "pygments_lexer": "ipython3",
   "version": "3.8.1"
  }
 },
 "nbformat": 4,
 "nbformat_minor": 4
}
