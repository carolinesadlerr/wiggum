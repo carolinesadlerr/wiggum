{
 "cells": [
  {
   "cell_type": "code",
   "execution_count": 1,
   "metadata": {},
   "outputs": [],
   "source": [
    "import pandas as pd\n",
    "import os\n",
    "import wiggum as wg\n",
    "import numpy as np"
   ]
  },
  {
   "cell_type": "code",
   "execution_count": 2,
   "metadata": {},
   "outputs": [],
   "source": [
    "labeled_df = wg.LabeledDataFrame('../data/iristest')"
   ]
  },
  {
   "cell_type": "code",
   "execution_count": 3,
   "metadata": {},
   "outputs": [
    {
     "data": {
      "text/html": [
       "<div>\n",
       "<style scoped>\n",
       "    .dataframe tbody tr th:only-of-type {\n",
       "        vertical-align: middle;\n",
       "    }\n",
       "\n",
       "    .dataframe tbody tr th {\n",
       "        vertical-align: top;\n",
       "    }\n",
       "\n",
       "    .dataframe thead th {\n",
       "        text-align: right;\n",
       "    }\n",
       "</style>\n",
       "<table border=\"1\" class=\"dataframe\">\n",
       "  <thead>\n",
       "    <tr style=\"text-align: right;\">\n",
       "      <th></th>\n",
       "      <th>dtype</th>\n",
       "      <th>var_type</th>\n",
       "      <th>role</th>\n",
       "      <th>isCount</th>\n",
       "      <th>weighting_var</th>\n",
       "    </tr>\n",
       "    <tr>\n",
       "      <th>variable</th>\n",
       "      <th></th>\n",
       "      <th></th>\n",
       "      <th></th>\n",
       "      <th></th>\n",
       "      <th></th>\n",
       "    </tr>\n",
       "  </thead>\n",
       "  <tbody>\n",
       "    <tr>\n",
       "      <th>sepal length</th>\n",
       "      <td>float64</td>\n",
       "      <td>continuous</td>\n",
       "      <td>[independent, dependent]</td>\n",
       "      <td>False</td>\n",
       "      <td>NaN</td>\n",
       "    </tr>\n",
       "    <tr>\n",
       "      <th>sepal width</th>\n",
       "      <td>float64</td>\n",
       "      <td>continuous</td>\n",
       "      <td>[dependent]</td>\n",
       "      <td>False</td>\n",
       "      <td>NaN</td>\n",
       "    </tr>\n",
       "    <tr>\n",
       "      <th>petal length</th>\n",
       "      <td>float64</td>\n",
       "      <td>continuous</td>\n",
       "      <td>[independent]</td>\n",
       "      <td>False</td>\n",
       "      <td>NaN</td>\n",
       "    </tr>\n",
       "    <tr>\n",
       "      <th>petal width</th>\n",
       "      <td>float64</td>\n",
       "      <td>continuous</td>\n",
       "      <td>[independent]</td>\n",
       "      <td>False</td>\n",
       "      <td>NaN</td>\n",
       "    </tr>\n",
       "    <tr>\n",
       "      <th>class</th>\n",
       "      <td>object</td>\n",
       "      <td>categorical</td>\n",
       "      <td>[splitby]</td>\n",
       "      <td>False</td>\n",
       "      <td>NaN</td>\n",
       "    </tr>\n",
       "  </tbody>\n",
       "</table>\n",
       "</div>"
      ],
      "text/plain": [
       "                dtype     var_type                      role  isCount  \\\n",
       "variable                                                                \n",
       "sepal length  float64   continuous  [independent, dependent]    False   \n",
       "sepal width   float64   continuous               [dependent]    False   \n",
       "petal length  float64   continuous             [independent]    False   \n",
       "petal width   float64   continuous             [independent]    False   \n",
       "class          object  categorical                 [splitby]    False   \n",
       "\n",
       "              weighting_var  \n",
       "variable                     \n",
       "sepal length            NaN  \n",
       "sepal width             NaN  \n",
       "petal length            NaN  \n",
       "petal width             NaN  \n",
       "class                   NaN  "
      ]
     },
     "execution_count": 3,
     "metadata": {},
     "output_type": "execute_result"
    }
   ],
   "source": [
    "labeled_df.meta_df"
   ]
  },
  {
   "cell_type": "code",
   "execution_count": 4,
   "metadata": {},
   "outputs": [
    {
     "data": {
      "text/plain": [
       "[('sepal length', 'sepal length'),\n",
       " ('sepal length', 'sepal width'),\n",
       " ('petal length', 'sepal length'),\n",
       " ('petal length', 'sepal width'),\n",
       " ('petal width', 'sepal length'),\n",
       " ('petal width', 'sepal width')]"
      ]
     },
     "execution_count": 4,
     "metadata": {},
     "output_type": "execute_result"
    }
   ],
   "source": [
    "corrobj = wg.All_Pearson()\n",
    "corrobj.get_trend_vars(labeled_df)\n",
    "corrobj.regression_vars"
   ]
  },
  {
   "cell_type": "code",
   "execution_count": 5,
   "metadata": {},
   "outputs": [
    {
     "data": {
      "text/html": [
       "<div>\n",
       "<style scoped>\n",
       "    .dataframe tbody tr th:only-of-type {\n",
       "        vertical-align: middle;\n",
       "    }\n",
       "\n",
       "    .dataframe tbody tr th {\n",
       "        vertical-align: top;\n",
       "    }\n",
       "\n",
       "    .dataframe thead th {\n",
       "        text-align: right;\n",
       "    }\n",
       "</style>\n",
       "<table border=\"1\" class=\"dataframe\">\n",
       "  <thead>\n",
       "    <tr style=\"text-align: right;\">\n",
       "      <th></th>\n",
       "      <th>dependent</th>\n",
       "      <th>group_feat</th>\n",
       "      <th>independent</th>\n",
       "      <th>subgroup</th>\n",
       "      <th>subgroup_trend</th>\n",
       "      <th>subgroup_trend_strength</th>\n",
       "      <th>trend_type</th>\n",
       "      <th>agg_trend</th>\n",
       "      <th>agg_trend_strength</th>\n",
       "      <th>comparison_type</th>\n",
       "    </tr>\n",
       "  </thead>\n",
       "  <tbody>\n",
       "    <tr>\n",
       "      <th>0</th>\n",
       "      <td>sepal length</td>\n",
       "      <td>class</td>\n",
       "      <td>sepal length</td>\n",
       "      <td>Iris-setosa</td>\n",
       "      <td>1.000000</td>\n",
       "      <td>1.000000</td>\n",
       "      <td>pearson_corr</td>\n",
       "      <td>1.000000</td>\n",
       "      <td>1.000000</td>\n",
       "      <td>aggregate-subgroup</td>\n",
       "    </tr>\n",
       "    <tr>\n",
       "      <th>1</th>\n",
       "      <td>sepal width</td>\n",
       "      <td>class</td>\n",
       "      <td>sepal length</td>\n",
       "      <td>Iris-versicolor</td>\n",
       "      <td>0.525911</td>\n",
       "      <td>0.525911</td>\n",
       "      <td>pearson_corr</td>\n",
       "      <td>-0.109369</td>\n",
       "      <td>0.109369</td>\n",
       "      <td>aggregate-subgroup</td>\n",
       "    </tr>\n",
       "    <tr>\n",
       "      <th>2</th>\n",
       "      <td>sepal length</td>\n",
       "      <td>class</td>\n",
       "      <td>petal length</td>\n",
       "      <td>Iris-virginica</td>\n",
       "      <td>0.864225</td>\n",
       "      <td>0.864225</td>\n",
       "      <td>pearson_corr</td>\n",
       "      <td>0.871754</td>\n",
       "      <td>0.871754</td>\n",
       "      <td>aggregate-subgroup</td>\n",
       "    </tr>\n",
       "  </tbody>\n",
       "</table>\n",
       "</div>"
      ],
      "text/plain": [
       "      dependent group_feat   independent         subgroup  subgroup_trend  \\\n",
       "0  sepal length      class  sepal length      Iris-setosa        1.000000   \n",
       "1   sepal width      class  sepal length  Iris-versicolor        0.525911   \n",
       "2  sepal length      class  petal length   Iris-virginica        0.864225   \n",
       "\n",
       "   subgroup_trend_strength    trend_type  agg_trend  agg_trend_strength  \\\n",
       "0                 1.000000  pearson_corr   1.000000            1.000000   \n",
       "1                 0.525911  pearson_corr  -0.109369            0.109369   \n",
       "2                 0.864225  pearson_corr   0.871754            0.871754   \n",
       "\n",
       "      comparison_type  \n",
       "0  aggregate-subgroup  \n",
       "1  aggregate-subgroup  \n",
       "2  aggregate-subgroup  "
      ]
     },
     "execution_count": 5,
     "metadata": {},
     "output_type": "execute_result"
    }
   ],
   "source": [
    "labeled_df.get_subgroup_trends_1lev([corrobj])\n",
    "labeled_df.result_df.head()"
   ]
  },
  {
   "cell_type": "code",
   "execution_count": 6,
   "metadata": {},
   "outputs": [],
   "source": [
    "indep, dep = zip(*corrobj.regression_vars)\n",
    "corr_var_list = list(set(indep))\n",
    "corr_var_list.extend(list(set(dep)))\n",
    "corr_var_list = list(set(corr_var_list))"
   ]
  },
  {
   "cell_type": "code",
   "execution_count": 7,
   "metadata": {},
   "outputs": [
    {
     "data": {
      "text/plain": [
       "['sepal length', 'sepal width', 'petal width', 'petal length']"
      ]
     },
     "execution_count": 7,
     "metadata": {},
     "output_type": "execute_result"
    }
   ],
   "source": [
    "corr_var_list"
   ]
  },
  {
   "cell_type": "code",
   "execution_count": 8,
   "metadata": {},
   "outputs": [
    {
     "data": {
      "text/html": [
       "<div>\n",
       "<style scoped>\n",
       "    .dataframe tbody tr th:only-of-type {\n",
       "        vertical-align: middle;\n",
       "    }\n",
       "\n",
       "    .dataframe tbody tr th {\n",
       "        vertical-align: top;\n",
       "    }\n",
       "\n",
       "    .dataframe thead th {\n",
       "        text-align: right;\n",
       "    }\n",
       "</style>\n",
       "<table border=\"1\" class=\"dataframe\">\n",
       "  <thead>\n",
       "    <tr style=\"text-align: right;\">\n",
       "      <th></th>\n",
       "      <th>sepal length</th>\n",
       "      <th>sepal width</th>\n",
       "      <th>petal width</th>\n",
       "      <th>petal length</th>\n",
       "    </tr>\n",
       "  </thead>\n",
       "  <tbody>\n",
       "    <tr>\n",
       "      <th>sepal length</th>\n",
       "      <td>1.000000</td>\n",
       "      <td>-0.109369</td>\n",
       "      <td>0.817954</td>\n",
       "      <td>0.871754</td>\n",
       "    </tr>\n",
       "    <tr>\n",
       "      <th>sepal width</th>\n",
       "      <td>-0.109369</td>\n",
       "      <td>1.000000</td>\n",
       "      <td>-0.356544</td>\n",
       "      <td>-0.420516</td>\n",
       "    </tr>\n",
       "    <tr>\n",
       "      <th>petal width</th>\n",
       "      <td>0.817954</td>\n",
       "      <td>-0.356544</td>\n",
       "      <td>1.000000</td>\n",
       "      <td>0.962757</td>\n",
       "    </tr>\n",
       "    <tr>\n",
       "      <th>petal length</th>\n",
       "      <td>0.871754</td>\n",
       "      <td>-0.420516</td>\n",
       "      <td>0.962757</td>\n",
       "      <td>1.000000</td>\n",
       "    </tr>\n",
       "  </tbody>\n",
       "</table>\n",
       "</div>"
      ],
      "text/plain": [
       "              sepal length  sepal width  petal width  petal length\n",
       "sepal length      1.000000    -0.109369     0.817954      0.871754\n",
       "sepal width      -0.109369     1.000000    -0.356544     -0.420516\n",
       "petal width       0.817954    -0.356544     1.000000      0.962757\n",
       "petal length      0.871754    -0.420516     0.962757      1.000000"
      ]
     },
     "execution_count": 8,
     "metadata": {},
     "output_type": "execute_result"
    }
   ],
   "source": [
    "corrmat = labeled_df.df[corr_var_list].corr()\n",
    "corrmat"
   ]
  },
  {
   "cell_type": "code",
   "execution_count": 9,
   "metadata": {},
   "outputs": [
    {
     "data": {
      "text/plain": [
       "1.0"
      ]
     },
     "execution_count": 9,
     "metadata": {},
     "output_type": "execute_result"
    }
   ],
   "source": [
    "corrmat['sepal width']['sepal width']"
   ]
  },
  {
   "cell_type": "code",
   "execution_count": 12,
   "metadata": {},
   "outputs": [
    {
     "name": "stdout",
     "output_type": "stream",
     "text": [
      "sepal length sepal length : 1.0\n",
      "sepal length sepal width : -0.10936924995064935\n",
      "petal length sepal length : 0.8717541573048719\n",
      "petal length sepal width : -0.42051609640115484\n",
      "petal width sepal length : 0.8179536333691635\n",
      "petal width sepal width : -0.3565440896138055\n"
     ]
    }
   ],
   "source": [
    "for i,d in corrobj.regression_vars:\n",
    "    print(i,d, ':',corrmat[i][d])"
   ]
  },
  {
   "cell_type": "code",
   "execution_count": null,
   "metadata": {},
   "outputs": [],
   "source": []
  }
 ],
 "metadata": {
  "kernelspec": {
   "display_name": "Python 3",
   "language": "python",
   "name": "python3"
  },
  "language_info": {
   "codemirror_mode": {
    "name": "ipython",
    "version": 3
   },
   "file_extension": ".py",
   "mimetype": "text/x-python",
   "name": "python",
   "nbconvert_exporter": "python",
   "pygments_lexer": "ipython3",
   "version": "3.6.4"
  }
 },
 "nbformat": 4,
 "nbformat_minor": 2
}
