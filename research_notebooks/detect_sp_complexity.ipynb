{
 "cells": [
  {
   "cell_type": "markdown",
   "metadata": {},
   "source": [
    "# Function detect_simpsons_paradox Computational Complexity Analysis\n",
    "The number of records: $n$  \n",
    "The total number of attributes: $a$  \n",
    "The number of group-by attributes(discrete vriable): $c$  \n",
    "The levels for each group-by attribute: $k_i$  \n",
    "The number of continouse attributes: $d$   "
   ]
  },
  {
   "cell_type": "markdown",
   "metadata": {},
   "source": [
    "### Separate the attributes by types\n",
    "$O(a)$:    groupbyAttrs = latent_df.select_dtypes(include=['object','int64'])<br/>\n",
    "$O(a)$:    continuousAttrs = latent_df.select_dtypes(include=['float64'])<br/>\n",
    "$O(1)$:    continuousAttrs_labels = list(continuousAttrs)<br/>\n",
    "$O(1)$:    groupbyAttrs_labels = list(groupbyAttrs)<br/>\n",
    "\n",
    "#### Total: $O(a)$"
   ]
  },
  {
   "cell_type": "markdown",
   "metadata": {},
   "source": [
    "### Compute correlation for all of the data\n",
    "$O(d*d*n)$:    all_corr = latent_df[continuousAttrs_labels].corr()  \n",
    "$O(d*d)$:      all_corr_df = upper_triangle_df(all_corr)  \n",
    "$O(d*d)$:      all_corr_element = all_corr_df['value'].values  \n",
    "\n",
    "#### Total:  $O(d*d*n)$"
   ]
  },
  {
   "cell_type": "markdown",
   "metadata": {},
   "source": [
    "### Compute subgroup correlation matrix, then compare to the all data correlation matrix\n",
    "\n",
    "* $O(c)$:for groupbyAttr in groupbyAttrs_labels:  \n",
    "    * $O(d*d*n)$:    grouped_df_corr = latent_df.groupby(groupbyAttr)[continuousAttrs_labels].corr()  \n",
    "    * $O(1)$:        groupby_value=grouped_df_corr.index.get_level_values(groupbyAttr).unique()  \n",
    "  \n",
    "    * $O(k_i)$:  for subgroup in groupby_value:  \n",
    "        * $O(1)$:        subgroup_corr = grouped_df_corr.loc[subgroup]  \n",
    "        * $O(d*d)$:      subgroup_corr_elements = upper_triangle_element(subgroup_corr)  \n",
    "        * $O(d*d)$:      index_list = [i for i, (a,b) in enumerate(zip(all_corr_element, subgroup_corr_elements)) if isReverse(a, b)]  \n",
    "        * $O(d*d)$:      reverse_list = [j for i, j in zip(all_corr_element, subgroup_corr_elements) if isReverse(i, j)]  \n",
    "        \n",
    "        * Ignore!!!:     if reverse_list:  \n",
    "            * Ignore!!!:     all_corr_info = [all_corr_df.loc[i].values for i in index_list]\n",
    "            * Ignore!!!:     temp_df = pd.DataFrame(data=all_corr_info,columns=['allCorr','attr1','attr2'])\n",
    "            * Ignore!!!:     temp_df.attr1 = temp_df.attr1.astype(int)  \n",
    "            * Ignore!!!:     temp_df.attr2 = temp_df.attr2.astype(int)  \n",
    "            * Ignore!!!:     temp_df[\"reverseCorr\"] = reverse_list  \n",
    "            * Ignore!!!:     len_list = len(reverse_list)  \n",
    "            * Ignore!!!:     temp_df['groupbyAttr'] = [groupbyAttr for i in range(len_list)]  \n",
    "            * Ignore!!!:     temp_df['subgroup'] = [subgroup for i in range(len_list)]  \n",
    "            * Ignore!!!:     result_df = result_df.append(temp_df, ignore_index=True)  \n",
    "                            \n",
    "#### Total: $O(c*d*d*n + c*k_i*d*d)$ ==>  $O(c*d*d*n)$"
   ]
  },
  {
   "cell_type": "markdown",
   "metadata": {},
   "source": [
    "# Computational Complexity for all: $O(c*d*d*n)$"
   ]
  },
  {
   "cell_type": "code",
   "execution_count": null,
   "metadata": {
    "collapsed": true
   },
   "outputs": [],
   "source": []
  }
 ],
 "metadata": {
  "kernelspec": {
   "display_name": "Python 2",
   "language": "python",
   "name": "python2"
  },
  "language_info": {
   "codemirror_mode": {
    "name": "ipython",
    "version": 2
   },
   "file_extension": ".py",
   "mimetype": "text/x-python",
   "name": "python",
   "nbconvert_exporter": "python",
   "pygments_lexer": "ipython2",
   "version": "2.7.13"
  }
 },
 "nbformat": 4,
 "nbformat_minor": 2
}
