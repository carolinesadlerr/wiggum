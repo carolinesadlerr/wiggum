{
 "cells": [
  {
   "cell_type": "markdown",
   "metadata": {},
   "source": [
    "# SP via class imbalance\n",
    "\n",
    "Example [test scores](https://www.brookings.edu/blog/social-mobility-memos/2015/07/29/when-average-isnt-good-enough-simpsons-paradox-in-education-and-earnings/)\n"
   ]
  },
  {
   "cell_type": "code",
   "execution_count": 2,
   "metadata": {},
   "outputs": [],
   "source": [
    "import numpy as np\n",
    "import pandas as pd\n",
    "import matplotlib.pylab as plt"
   ]
  },
  {
   "cell_type": "code",
   "execution_count": 102,
   "metadata": {},
   "outputs": [],
   "source": [
    "t = np.linspace(0,50,11)\n",
    "count_rate = np.asarray([1,1.5,1.4])\n",
    "count_pow = np.asarray([1,1.4, 1.3])\n",
    "count_0 = np.asarray([100,60,40])\n",
    "count = np.asarray([count_0 + count_rate*(t_i**count_pow) for t_i in t])\n",
    "share = count/np.asarray([np.sum(count, axis=1)]*3).T\n",
    "score_rate = np.asarray([.1, .2, .5])\n",
    "score_0 = [310,290,280]\n",
    "scores = np.asarray([score_0 + score_rate*t_i for t_i in t])\n",
    "total_score = np.sum(scores*share,axis=1)\n",
    "\n",
    "\n",
    "\n"
   ]
  },
  {
   "cell_type": "code",
   "execution_count": 103,
   "metadata": {},
   "outputs": [
    {
     "data": {
      "text/plain": [
       "array([298.        , 297.98576427, 297.85774377, 298.01001517,\n",
       "       298.44310403, 299.10242414, 299.9344146 , 300.89673092,\n",
       "       301.95780693, 303.09445576, 304.28961625])"
      ]
     },
     "execution_count": 103,
     "metadata": {},
     "output_type": "execute_result"
    }
   ],
   "source": [
    "total_score"
   ]
  },
  {
   "cell_type": "code",
   "execution_count": 104,
   "metadata": {},
   "outputs": [
    {
     "data": {
      "text/plain": [
       "array([[100.        ,  60.        ,  40.        ],\n",
       "       [105.        ,  74.27740454,  51.34459618],\n",
       "       [110.        ,  97.67829647,  67.93367241],\n",
       "       [115.        , 126.46898113,  87.320211  ],\n",
       "       [120.        , 159.43362052, 108.78076946],\n",
       "       [125.        , 195.89618694, 131.92847315],\n",
       "       [130.        , 235.41269284, 156.51602682],\n",
       "       [135.        , 277.66395751, 182.36934708],\n",
       "       [140.        , 322.40689775, 209.35812014],\n",
       "       [145.        , 369.4487825 , 237.38052672],\n",
       "       [150.        , 418.63218742, 266.3544523 ]])"
      ]
     },
     "execution_count": 104,
     "metadata": {},
     "output_type": "execute_result"
    }
   ],
   "source": [
    "count"
   ]
  },
  {
   "cell_type": "code",
   "execution_count": 105,
   "metadata": {},
   "outputs": [
    {
     "data": {
      "text/plain": [
       "array([[310. , 290. , 280. ],\n",
       "       [310.5, 291. , 282.5],\n",
       "       [311. , 292. , 285. ],\n",
       "       [311.5, 293. , 287.5],\n",
       "       [312. , 294. , 290. ],\n",
       "       [312.5, 295. , 292.5],\n",
       "       [313. , 296. , 295. ],\n",
       "       [313.5, 297. , 297.5],\n",
       "       [314. , 298. , 300. ],\n",
       "       [314.5, 299. , 302.5],\n",
       "       [315. , 300. , 305. ]])"
      ]
     },
     "execution_count": 105,
     "metadata": {},
     "output_type": "execute_result"
    }
   ],
   "source": [
    "scores"
   ]
  },
  {
   "cell_type": "code",
   "execution_count": null,
   "metadata": {},
   "outputs": [],
   "source": []
  },
  {
   "cell_type": "code",
   "execution_count": null,
   "metadata": {},
   "outputs": [],
   "source": []
  }
 ],
 "metadata": {
  "kernelspec": {
   "display_name": "Python 3",
   "language": "python",
   "name": "python3"
  },
  "language_info": {
   "codemirror_mode": {
    "name": "ipython",
    "version": 3
   },
   "file_extension": ".py",
   "mimetype": "text/x-python",
   "name": "python",
   "nbconvert_exporter": "python",
   "pygments_lexer": "ipython3",
   "version": "3.6.4"
  }
 },
 "nbformat": 4,
 "nbformat_minor": 2
}
