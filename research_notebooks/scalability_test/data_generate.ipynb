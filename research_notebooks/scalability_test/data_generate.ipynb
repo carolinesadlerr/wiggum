{
 "cells": [
  {
   "cell_type": "code",
   "execution_count": 1,
   "metadata": {},
   "outputs": [],
   "source": [
    "import mlsim\n",
    "import wiggum as wg\n",
    "import numpy as np\n",
    "import string\n",
    "from mlsim import sp_plot"
   ]
  },
  {
   "cell_type": "code",
   "execution_count": 2,
   "metadata": {},
   "outputs": [],
   "source": [
    "def data_generate(N, number_cluster, r_clusters, cluster_size, cluster_spread, p_sp_clusters, domain_range):\n",
    "    k = [number_cluster]*40\n",
    "    n_view = len(k)\n",
    "    p_clusters = [[1/k_i]*k_i for k_i in k]\n",
    "    many_sp_df = mlsim.geometric_indep_views_gmm_sp(n_view,r_clusters,cluster_size,cluster_spread,p_sp_clusters,\n",
    "                domain_range,k,N,p_clusters)\n",
    "    \n",
    "    data_size = len(many_sp_df)\n",
    "    save_directory = '../data/scalability_test/synthetic_scalability_' + str(data_size) + \\\n",
    "                            '_cluster' + str(number_cluster) +'.csv'\n",
    "    many_sp_df.to_csv(save_directory ,index=False)    "
   ]
  },
  {
   "cell_type": "code",
   "execution_count": 3,
   "metadata": {},
   "outputs": [],
   "source": [
    "np.random.seed(20210627)"
   ]
  },
  {
   "cell_type": "code",
   "execution_count": 4,
   "metadata": {},
   "outputs": [],
   "source": [
    "r_clusters =     [-.8, .5, .4, .7, -.6, .5, .4,-.9]  # magnitude correlation coefficient of clusters\n",
    "cluster_spread = [ .3,-.2, .1,-.4, .2, -.1, .2,.4] # pearson correlation of means\n",
    "p_sp_clusters =  [  1,  0,  0,  0,  1,   0,  0,  1] # portion of clusters with SP  #1 if r neg 0 if rpos\n",
    "cluster_size =   [2,  3]#\n",
    "domain_range = [0, 20, 0, 20] # of all data"
   ]
  },
  {
   "cell_type": "markdown",
   "metadata": {},
   "source": [
    "# Size 1K"
   ]
  },
  {
   "cell_type": "code",
   "execution_count": 5,
   "metadata": {},
   "outputs": [],
   "source": [
    "N = 1000\n",
    "\n",
    "# Cluster 2\n",
    "number_cluster = 2\n",
    "data_generate(N, number_cluster, r_clusters, cluster_size, cluster_spread, p_sp_clusters, domain_range)\n",
    "\n",
    "# Cluster 4\n",
    "number_cluster = 4\n",
    "data_generate(N, number_cluster, r_clusters, cluster_size, cluster_spread, p_sp_clusters, domain_range)"
   ]
  },
  {
   "cell_type": "code",
   "execution_count": 35,
   "metadata": {},
   "outputs": [],
   "source": [
    "N = 1000\n",
    "\n",
    "# Cluster 8\n",
    "number_cluster = 8\n",
    "data_generate(N, number_cluster, r_clusters, cluster_size, cluster_spread, p_sp_clusters, domain_range)\n",
    "\n",
    "# Cluster 16\n",
    "number_cluster = 16\n",
    "data_generate(N, number_cluster, r_clusters, cluster_size, cluster_spread, p_sp_clusters, domain_range)\n",
    "\n",
    "# Cluster 32\n",
    "number_cluster = 32\n",
    "data_generate(N, number_cluster, r_clusters, cluster_size, cluster_spread, p_sp_clusters, domain_range)"
   ]
  },
  {
   "cell_type": "markdown",
   "metadata": {},
   "source": [
    "# Size 10K"
   ]
  },
  {
   "cell_type": "code",
   "execution_count": 6,
   "metadata": {},
   "outputs": [],
   "source": [
    "N = 10000\n",
    "\n",
    "# Cluster 2\n",
    "number_cluster = 2\n",
    "data_generate(N, number_cluster, r_clusters, cluster_size, cluster_spread, p_sp_clusters, domain_range)\n",
    "\n",
    "# Cluster 4\n",
    "number_cluster = 4\n",
    "data_generate(N, number_cluster, r_clusters, cluster_size, cluster_spread, p_sp_clusters, domain_range)"
   ]
  },
  {
   "cell_type": "code",
   "execution_count": 36,
   "metadata": {},
   "outputs": [],
   "source": [
    "N = 10000\n",
    "\n",
    "# Cluster 8\n",
    "number_cluster = 8\n",
    "data_generate(N, number_cluster, r_clusters, cluster_size, cluster_spread, p_sp_clusters, domain_range)\n",
    "\n",
    "# Cluster 16\n",
    "number_cluster = 16\n",
    "data_generate(N, number_cluster, r_clusters, cluster_size, cluster_spread, p_sp_clusters, domain_range)\n",
    "\n",
    "# Cluster 32\n",
    "number_cluster = 32\n",
    "data_generate(N, number_cluster, r_clusters, cluster_size, cluster_spread, p_sp_clusters, domain_range)"
   ]
  },
  {
   "cell_type": "markdown",
   "metadata": {},
   "source": [
    "# Size 100K"
   ]
  },
  {
   "cell_type": "code",
   "execution_count": 7,
   "metadata": {},
   "outputs": [],
   "source": [
    "N = 100000\n",
    "\n",
    "# Cluster 2\n",
    "number_cluster = 2\n",
    "data_generate(N, number_cluster, r_clusters, cluster_size, cluster_spread, p_sp_clusters, domain_range)\n",
    "\n",
    "# Cluster 4\n",
    "number_cluster = 4\n",
    "data_generate(N, number_cluster, r_clusters, cluster_size, cluster_spread, p_sp_clusters, domain_range)"
   ]
  },
  {
   "cell_type": "code",
   "execution_count": 37,
   "metadata": {},
   "outputs": [],
   "source": [
    "N = 100000\n",
    "\n",
    "# Cluster 8\n",
    "number_cluster = 8\n",
    "data_generate(N, number_cluster, r_clusters, cluster_size, cluster_spread, p_sp_clusters, domain_range)\n",
    "\n",
    "# Cluster 16\n",
    "number_cluster = 16\n",
    "data_generate(N, number_cluster, r_clusters, cluster_size, cluster_spread, p_sp_clusters, domain_range)\n",
    "\n",
    "# Cluster 32\n",
    "number_cluster = 32\n",
    "data_generate(N, number_cluster, r_clusters, cluster_size, cluster_spread, p_sp_clusters, domain_range)"
   ]
  },
  {
   "cell_type": "code",
   "execution_count": null,
   "metadata": {},
   "outputs": [],
   "source": []
  }
 ],
 "metadata": {
  "kernelspec": {
   "display_name": "Python 3",
   "language": "python",
   "name": "python3"
  },
  "language_info": {
   "codemirror_mode": {
    "name": "ipython",
    "version": 3
   },
   "file_extension": ".py",
   "mimetype": "text/x-python",
   "name": "python",
   "nbconvert_exporter": "python",
   "pygments_lexer": "ipython3",
   "version": "3.7.6"
  }
 },
 "nbformat": 4,
 "nbformat_minor": 4
}
