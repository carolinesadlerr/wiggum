{
 "cells": [
  {
   "cell_type": "code",
   "execution_count": 2,
   "metadata": {},
   "outputs": [],
   "source": [
    "import wiggum as wg\n",
    "import pandas as pd\n",
    "import numpy as pd\n",
    "from scipy.stats import kendalltau"
   ]
  },
  {
   "cell_type": "code",
   "execution_count": 74,
   "metadata": {},
   "outputs": [],
   "source": [
    "labeled_df=wg.LabeledDataFrame('../data/genderpaygap')"
   ]
  },
  {
   "cell_type": "code",
   "execution_count": 63,
   "metadata": {},
   "outputs": [
    {
     "data": {
      "text/html": [
       "<div>\n",
       "<style scoped>\n",
       "    .dataframe tbody tr th:only-of-type {\n",
       "        vertical-align: middle;\n",
       "    }\n",
       "\n",
       "    .dataframe tbody tr th {\n",
       "        vertical-align: top;\n",
       "    }\n",
       "\n",
       "    .dataframe thead th {\n",
       "        text-align: right;\n",
       "    }\n",
       "</style>\n",
       "<table border=\"1\" class=\"dataframe\">\n",
       "  <thead>\n",
       "    <tr style=\"text-align: right;\">\n",
       "      <th></th>\n",
       "      <th>dtype</th>\n",
       "      <th>var_type</th>\n",
       "      <th>role</th>\n",
       "      <th>isCount</th>\n",
       "      <th>weighting_var</th>\n",
       "      <th>roles</th>\n",
       "    </tr>\n",
       "    <tr>\n",
       "      <th>variable</th>\n",
       "      <th></th>\n",
       "      <th></th>\n",
       "      <th></th>\n",
       "      <th></th>\n",
       "      <th></th>\n",
       "      <th></th>\n",
       "    </tr>\n",
       "  </thead>\n",
       "  <tbody>\n",
       "    <tr>\n",
       "      <th>role</th>\n",
       "      <td>object</td>\n",
       "      <td>categorical</td>\n",
       "      <td>[splitby, [independent, dependent]]</td>\n",
       "      <td>False</td>\n",
       "      <td>NaN</td>\n",
       "      <td>nan</td>\n",
       "    </tr>\n",
       "    <tr>\n",
       "      <th>gender</th>\n",
       "      <td>object</td>\n",
       "      <td>categorical</td>\n",
       "      <td>[splitby, [independent, dependent]]</td>\n",
       "      <td>False</td>\n",
       "      <td>NaN</td>\n",
       "      <td>nan</td>\n",
       "    </tr>\n",
       "    <tr>\n",
       "      <th>Headcount</th>\n",
       "      <td>int64</td>\n",
       "      <td>ordinal</td>\n",
       "      <td>[ignore]</td>\n",
       "      <td>True</td>\n",
       "      <td>NaN</td>\n",
       "      <td>nan</td>\n",
       "    </tr>\n",
       "    <tr>\n",
       "      <th>MeanHourlyPay</th>\n",
       "      <td>int64</td>\n",
       "      <td>continuous</td>\n",
       "      <td>[[independent, dependent]]</td>\n",
       "      <td>False</td>\n",
       "      <td>Headcount</td>\n",
       "      <td>nan</td>\n",
       "    </tr>\n",
       "  </tbody>\n",
       "</table>\n",
       "</div>"
      ],
      "text/plain": [
       "                dtype     var_type                                 role  \\\n",
       "variable                                                                  \n",
       "role           object  categorical  [splitby, [independent, dependent]]   \n",
       "gender         object  categorical  [splitby, [independent, dependent]]   \n",
       "Headcount       int64      ordinal                             [ignore]   \n",
       "MeanHourlyPay   int64   continuous           [[independent, dependent]]   \n",
       "\n",
       "               isCount weighting_var roles  \n",
       "variable                                    \n",
       "role             False           NaN   nan  \n",
       "gender           False           NaN   nan  \n",
       "Headcount         True           NaN   nan  \n",
       "MeanHourlyPay    False     Headcount   nan  "
      ]
     },
     "execution_count": 63,
     "metadata": {},
     "output_type": "execute_result"
    }
   ],
   "source": [
    "labeled_df.meta_df['role']='nan'\n",
    "labeled_df.meta_df"
   ]
  },
  {
   "cell_type": "code",
   "execution_count": 76,
   "metadata": {},
   "outputs": [
    {
     "name": "stderr",
     "output_type": "stream",
     "text": [
      "c:\\users\\pad39\\appdata\\local\\programs\\python\\python38\\lib\\site-packages\\wiggum\\labeled_dataframe.py:367: SettingWithCopyWarning: \n",
      "A value is trying to be set on a copy of a slice from a DataFrame\n",
      "\n",
      "See the caveats in the documentation: https://pandas.pydata.org/pandas-docs/stable/user_guide/indexing.html#returning-a-view-versus-a-copy\n",
      "  self.meta_df['role'][k] = v\n"
     ]
    }
   ],
   "source": [
    "roles={'role':['splitby', 'independent'], 'gender':['splitby', 'independent'], 'Headcount':['ignore'], 'MeanHourlyPay':['dependent']}\n",
    "labeled_df.set_roles(roles)"
   ]
  },
  {
   "cell_type": "code",
   "execution_count": 77,
   "metadata": {},
   "outputs": [
    {
     "data": {
      "text/html": [
       "<div>\n",
       "<style scoped>\n",
       "    .dataframe tbody tr th:only-of-type {\n",
       "        vertical-align: middle;\n",
       "    }\n",
       "\n",
       "    .dataframe tbody tr th {\n",
       "        vertical-align: top;\n",
       "    }\n",
       "\n",
       "    .dataframe thead th {\n",
       "        text-align: right;\n",
       "    }\n",
       "</style>\n",
       "<table border=\"1\" class=\"dataframe\">\n",
       "  <thead>\n",
       "    <tr style=\"text-align: right;\">\n",
       "      <th></th>\n",
       "      <th>dtype</th>\n",
       "      <th>var_type</th>\n",
       "      <th>role</th>\n",
       "      <th>isCount</th>\n",
       "      <th>weighting_var</th>\n",
       "    </tr>\n",
       "    <tr>\n",
       "      <th>variable</th>\n",
       "      <th></th>\n",
       "      <th></th>\n",
       "      <th></th>\n",
       "      <th></th>\n",
       "      <th></th>\n",
       "    </tr>\n",
       "  </thead>\n",
       "  <tbody>\n",
       "    <tr>\n",
       "      <th>role</th>\n",
       "      <td>object</td>\n",
       "      <td>categorical</td>\n",
       "      <td>[splitby, independent]</td>\n",
       "      <td>False</td>\n",
       "      <td>NaN</td>\n",
       "    </tr>\n",
       "    <tr>\n",
       "      <th>gender</th>\n",
       "      <td>object</td>\n",
       "      <td>categorical</td>\n",
       "      <td>[splitby, independent]</td>\n",
       "      <td>False</td>\n",
       "      <td>NaN</td>\n",
       "    </tr>\n",
       "    <tr>\n",
       "      <th>Headcount</th>\n",
       "      <td>int64</td>\n",
       "      <td>ordinal</td>\n",
       "      <td>[ignore]</td>\n",
       "      <td>True</td>\n",
       "      <td>NaN</td>\n",
       "    </tr>\n",
       "    <tr>\n",
       "      <th>MeanHourlyPay</th>\n",
       "      <td>int64</td>\n",
       "      <td>continuous</td>\n",
       "      <td>[dependent]</td>\n",
       "      <td>False</td>\n",
       "      <td>Headcount</td>\n",
       "    </tr>\n",
       "  </tbody>\n",
       "</table>\n",
       "</div>"
      ],
      "text/plain": [
       "                dtype     var_type                    role  isCount  \\\n",
       "variable                                                              \n",
       "role           object  categorical  [splitby, independent]    False   \n",
       "gender         object  categorical  [splitby, independent]    False   \n",
       "Headcount       int64      ordinal                [ignore]     True   \n",
       "MeanHourlyPay   int64   continuous             [dependent]    False   \n",
       "\n",
       "              weighting_var  \n",
       "variable                     \n",
       "role                    NaN  \n",
       "gender                  NaN  \n",
       "Headcount               NaN  \n",
       "MeanHourlyPay     Headcount  "
      ]
     },
     "execution_count": 77,
     "metadata": {},
     "output_type": "execute_result"
    }
   ],
   "source": [
    "labeled_df.meta_df"
   ]
  },
  {
   "cell_type": "code",
   "execution_count": 81,
   "metadata": {},
   "outputs": [
    {
     "data": {
      "text/plain": [
       "(['MeanHourlyPay'], ['role', 'gender'])"
      ]
     },
     "execution_count": 81,
     "metadata": {},
     "output_type": "execute_result"
    }
   ],
   "source": [
    "binary=wg.Mean_Rank_Trend()\n",
    "binary.get_trend_vars(labeled_df)"
   ]
  },
  {
   "cell_type": "code",
   "execution_count": 83,
   "metadata": {},
   "outputs": [
    {
     "data": {
      "text/html": [
       "<div>\n",
       "<style scoped>\n",
       "    .dataframe tbody tr th:only-of-type {\n",
       "        vertical-align: middle;\n",
       "    }\n",
       "\n",
       "    .dataframe tbody tr th {\n",
       "        vertical-align: top;\n",
       "    }\n",
       "\n",
       "    .dataframe thead th {\n",
       "        text-align: right;\n",
       "    }\n",
       "</style>\n",
       "<table border=\"1\" class=\"dataframe\">\n",
       "  <thead>\n",
       "    <tr style=\"text-align: right;\">\n",
       "      <th></th>\n",
       "      <th>independent</th>\n",
       "      <th>dependent</th>\n",
       "      <th>agg_trend</th>\n",
       "      <th>agg_trend_strength</th>\n",
       "      <th>trend_type</th>\n",
       "    </tr>\n",
       "  </thead>\n",
       "  <tbody>\n",
       "    <tr>\n",
       "      <th>0</th>\n",
       "      <td>role</td>\n",
       "      <td>MeanHourlyPay</td>\n",
       "      <td>[Support, R&amp;D engineering, Sales, Management]</td>\n",
       "      <td>0.8737</td>\n",
       "      <td>rank_trend</td>\n",
       "    </tr>\n",
       "    <tr>\n",
       "      <th>1</th>\n",
       "      <td>gender</td>\n",
       "      <td>MeanHourlyPay</td>\n",
       "      <td>[F, M]</td>\n",
       "      <td>0.6822</td>\n",
       "      <td>rank_trend</td>\n",
       "    </tr>\n",
       "  </tbody>\n",
       "</table>\n",
       "</div>"
      ],
      "text/plain": [
       "  independent      dependent                                      agg_trend  \\\n",
       "0        role  MeanHourlyPay  [Support, R&D engineering, Sales, Management]   \n",
       "1      gender  MeanHourlyPay                                         [F, M]   \n",
       "\n",
       "   agg_trend_strength  trend_type  \n",
       "0              0.8737  rank_trend  \n",
       "1              0.6822  rank_trend  "
      ]
     },
     "execution_count": 83,
     "metadata": {},
     "output_type": "execute_result"
    }
   ],
   "source": [
    "binary.get_trends(labeled_df.df, 'agg_trend')"
   ]
  },
  {
   "cell_type": "code",
   "execution_count": 4,
   "metadata": {},
   "outputs": [
    {
     "data": {
      "text/html": [
       "<div>\n",
       "<style scoped>\n",
       "    .dataframe tbody tr th:only-of-type {\n",
       "        vertical-align: middle;\n",
       "    }\n",
       "\n",
       "    .dataframe tbody tr th {\n",
       "        vertical-align: top;\n",
       "    }\n",
       "\n",
       "    .dataframe thead th {\n",
       "        text-align: right;\n",
       "    }\n",
       "</style>\n",
       "<table border=\"1\" class=\"dataframe\">\n",
       "  <thead>\n",
       "    <tr style=\"text-align: right;\">\n",
       "      <th></th>\n",
       "      <th>role</th>\n",
       "      <th>gender</th>\n",
       "      <th>Headcount</th>\n",
       "      <th>MeanHourlyPay</th>\n",
       "    </tr>\n",
       "    <tr>\n",
       "      <th></th>\n",
       "      <th></th>\n",
       "      <th></th>\n",
       "      <th></th>\n",
       "      <th></th>\n",
       "    </tr>\n",
       "  </thead>\n",
       "  <tbody>\n",
       "    <tr>\n",
       "      <th>0</th>\n",
       "      <td>Management</td>\n",
       "      <td>M</td>\n",
       "      <td>200</td>\n",
       "      <td>25</td>\n",
       "    </tr>\n",
       "    <tr>\n",
       "      <th>1</th>\n",
       "      <td>R&amp;D engineering</td>\n",
       "      <td>M</td>\n",
       "      <td>100</td>\n",
       "      <td>20</td>\n",
       "    </tr>\n",
       "    <tr>\n",
       "      <th>2</th>\n",
       "      <td>Sales</td>\n",
       "      <td>M</td>\n",
       "      <td>100</td>\n",
       "      <td>20</td>\n",
       "    </tr>\n",
       "    <tr>\n",
       "      <th>3</th>\n",
       "      <td>Support</td>\n",
       "      <td>M</td>\n",
       "      <td>100</td>\n",
       "      <td>10</td>\n",
       "    </tr>\n",
       "    <tr>\n",
       "      <th>4</th>\n",
       "      <td>Management</td>\n",
       "      <td>F</td>\n",
       "      <td>120</td>\n",
       "      <td>25</td>\n",
       "    </tr>\n",
       "    <tr>\n",
       "      <th>5</th>\n",
       "      <td>R&amp;D engineering</td>\n",
       "      <td>F</td>\n",
       "      <td>60</td>\n",
       "      <td>20</td>\n",
       "    </tr>\n",
       "    <tr>\n",
       "      <th>6</th>\n",
       "      <td>Sales</td>\n",
       "      <td>F</td>\n",
       "      <td>60</td>\n",
       "      <td>20</td>\n",
       "    </tr>\n",
       "    <tr>\n",
       "      <th>7</th>\n",
       "      <td>Support</td>\n",
       "      <td>F</td>\n",
       "      <td>260</td>\n",
       "      <td>10</td>\n",
       "    </tr>\n",
       "  </tbody>\n",
       "</table>\n",
       "</div>"
      ],
      "text/plain": [
       "              role gender  Headcount  MeanHourlyPay\n",
       "                                                   \n",
       "0       Management      M        200             25\n",
       "1  R&D engineering      M        100             20\n",
       "2            Sales      M        100             20\n",
       "3          Support      M        100             10\n",
       "4       Management      F        120             25\n",
       "5  R&D engineering      F         60             20\n",
       "6            Sales      F         60             20\n",
       "7          Support      F        260             10"
      ]
     },
     "execution_count": 4,
     "metadata": {},
     "output_type": "execute_result"
    }
   ],
   "source": [
    "labeled_df.df"
   ]
  },
  {
   "cell_type": "code",
   "execution_count": 46,
   "metadata": {},
   "outputs": [],
   "source": [
    "def categorical_kendalltau_u(list1,list2):\n",
    "    \n",
    "    all_vals = set(list1+list2)\n",
    "    \n",
    "    numeric_map = {a:i for i,a in enumerate(all_vals)}\n",
    "    numeric_a = [numeric_map[a] for a in list1]\n",
    "    numeric_b = [numeric_map[b] for b in list2]\n",
    "    \n",
    "    n_a = len(numeric_a)\n",
    "    n_b = len(numeric_b)\n",
    "    if n_a < n_b:\n",
    "        append_nums = list(range(n_a,n_b))\n",
    "        numeric_a.extend(append_nums)\n",
    "    if n_a > n_b:\n",
    "        append_nums = list(range(n_b,n_a))\n",
    "        numeric_b.extend(append_nums)\n",
    "\n",
    "    return kendalltau(numeric_a,numeric_b)"
   ]
  },
  {
   "cell_type": "code",
   "execution_count": 47,
   "metadata": {},
   "outputs": [],
   "source": [
    "def categorical_kendalltau(list1,list2):\n",
    "    \n",
    "#     if len()\n",
    "    list_diff = set(list1).difference(set(list2))\n",
    "    \n",
    "    all_vals = list1.copy()\n",
    "    all_vals.extend(list_diff)\n",
    "    \n",
    "    numeric_map = {a:i for i,a in enumerate(all_vals)}\n",
    "    numeric_a = [numeric_map[a] for a in list1]\n",
    "    numeric_b = [numeric_map[b] for b in list2]\n",
    "    \n",
    "\n",
    "    n_a = len(numeric_a)\n",
    "    n_b = len(numeric_b)\n",
    "    if n_a < n_b:\n",
    "        append_nums = list(range(n_a,n_b))\n",
    "        numeric_a.extend(append_nums)\n",
    "    if n_a > n_b:\n",
    "        append_nums = list(range(n_b,n_a))\n",
    "        numeric_b.extend(append_nums)\n",
    "\n",
    "    return kendalltau(numeric_a,numeric_b)"
   ]
  },
  {
   "cell_type": "code",
   "execution_count": 22,
   "metadata": {},
   "outputs": [
    {
     "data": {
      "text/html": [
       "<div>\n",
       "<style scoped>\n",
       "    .dataframe tbody tr th:only-of-type {\n",
       "        vertical-align: middle;\n",
       "    }\n",
       "\n",
       "    .dataframe tbody tr th {\n",
       "        vertical-align: top;\n",
       "    }\n",
       "\n",
       "    .dataframe thead th {\n",
       "        text-align: right;\n",
       "    }\n",
       "</style>\n",
       "<table border=\"1\" class=\"dataframe\">\n",
       "  <thead>\n",
       "    <tr style=\"text-align: right;\">\n",
       "      <th></th>\n",
       "      <th>dtype</th>\n",
       "      <th>var_type</th>\n",
       "      <th>role</th>\n",
       "      <th>isCount</th>\n",
       "      <th>weighting_var</th>\n",
       "    </tr>\n",
       "    <tr>\n",
       "      <th>variable</th>\n",
       "      <th></th>\n",
       "      <th></th>\n",
       "      <th></th>\n",
       "      <th></th>\n",
       "      <th></th>\n",
       "    </tr>\n",
       "  </thead>\n",
       "  <tbody>\n",
       "    <tr>\n",
       "      <th>role</th>\n",
       "      <td>object</td>\n",
       "      <td>categorical</td>\n",
       "      <td>[splitby, [independent, dependent]]</td>\n",
       "      <td>False</td>\n",
       "      <td>NaN</td>\n",
       "    </tr>\n",
       "    <tr>\n",
       "      <th>gender</th>\n",
       "      <td>object</td>\n",
       "      <td>categorical</td>\n",
       "      <td>[splitby, [independent, dependent]]</td>\n",
       "      <td>False</td>\n",
       "      <td>NaN</td>\n",
       "    </tr>\n",
       "    <tr>\n",
       "      <th>Headcount</th>\n",
       "      <td>int64</td>\n",
       "      <td>ordinal</td>\n",
       "      <td>[ignore]</td>\n",
       "      <td>True</td>\n",
       "      <td>NaN</td>\n",
       "    </tr>\n",
       "    <tr>\n",
       "      <th>MeanHourlyPay</th>\n",
       "      <td>int64</td>\n",
       "      <td>continuous</td>\n",
       "      <td>[[independent, dependent]]</td>\n",
       "      <td>False</td>\n",
       "      <td>Headcount</td>\n",
       "    </tr>\n",
       "  </tbody>\n",
       "</table>\n",
       "</div>"
      ],
      "text/plain": [
       "                dtype     var_type                                 role  \\\n",
       "variable                                                                  \n",
       "role           object  categorical  [splitby, [independent, dependent]]   \n",
       "gender         object  categorical  [splitby, [independent, dependent]]   \n",
       "Headcount       int64      ordinal                             [ignore]   \n",
       "MeanHourlyPay   int64   continuous           [[independent, dependent]]   \n",
       "\n",
       "               isCount weighting_var  \n",
       "variable                              \n",
       "role             False           NaN  \n",
       "gender           False           NaN  \n",
       "Headcount         True           NaN  \n",
       "MeanHourlyPay    False     Headcount  "
      ]
     },
     "execution_count": 22,
     "metadata": {},
     "output_type": "execute_result"
    }
   ],
   "source": [
    "labeled_df.meta_df"
   ]
  },
  {
   "cell_type": "code",
   "execution_count": 44,
   "metadata": {},
   "outputs": [
    {
     "data": {
      "text/plain": [
       "['Management',\n",
       " 'R&D engineering',\n",
       " 'Sales',\n",
       " 'Support',\n",
       " 'Management',\n",
       " 'R&D engineering',\n",
       " 'Sales',\n",
       " 'Support']"
      ]
     },
     "execution_count": 44,
     "metadata": {},
     "output_type": "execute_result"
    }
   ],
   "source": [
    "list_a=list(labeled_df.df['role'])\n",
    "list_b=list(labeled_df.df['gender'])\n",
    "list_a"
   ]
  },
  {
   "cell_type": "code",
   "execution_count": 51,
   "metadata": {},
   "outputs": [
    {
     "data": {
      "text/plain": [
       "KendalltauResult(correlation=1.0, pvalue=0.0081509715935027)"
      ]
     },
     "execution_count": 51,
     "metadata": {},
     "output_type": "execute_result"
    }
   ],
   "source": [
    "categorical_kendalltau(list_b, list_b)"
   ]
  },
  {
   "cell_type": "code",
   "execution_count": null,
   "metadata": {},
   "outputs": [],
   "source": []
  }
 ],
 "metadata": {
  "kernelspec": {
   "display_name": "Python 3",
   "language": "python",
   "name": "python3"
  },
  "language_info": {
   "codemirror_mode": {
    "name": "ipython",
    "version": 3
   },
   "file_extension": ".py",
   "mimetype": "text/x-python",
   "name": "python",
   "nbconvert_exporter": "python",
   "pygments_lexer": "ipython3",
   "version": "3.8.1"
  }
 },
 "nbformat": 4,
 "nbformat_minor": 4
}
