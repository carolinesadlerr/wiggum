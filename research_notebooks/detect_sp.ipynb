{
 "cells": [
  {
   "cell_type": "markdown",
   "metadata": {},
   "source": [
    "Install our package, then import it.\n",
    "\n",
    "_this is here as an example, and for development, eventually this install step shouldn't be in the notebooks, only in the main readme_"
   ]
  },
  {
   "cell_type": "code",
   "execution_count": 1,
   "metadata": {},
   "outputs": [],
   "source": [
    "import numpy as np\n",
    "import pandas as pd\n",
    "import seaborn as sns\n",
    "import matplotlib.colors as mcolors\n",
    "import matplotlib.pyplot as plt\n",
    "import warnings"
   ]
  },
  {
   "cell_type": "code",
   "execution_count": 2,
   "metadata": {},
   "outputs": [
    {
     "name": "stdout",
     "output_type": "stream",
     "text": [
      "Processing /home/smb/Documents/code/detect_simpsons_paradox_dev\n",
      "Requirement already satisfied, skipping upgrade: matplotlib in /home/smb/anaconda3/lib/python3.6/site-packages (from detect-simpsons-paradox==0.2) (2.2.0)\n",
      "Requirement already satisfied, skipping upgrade: Numpy in /home/smb/anaconda3/lib/python3.6/site-packages (from detect-simpsons-paradox==0.2) (1.14.1)\n",
      "Requirement already satisfied, skipping upgrade: Scipy in /home/smb/anaconda3/lib/python3.6/site-packages (from detect-simpsons-paradox==0.2) (1.0.0)\n",
      "Requirement already satisfied, skipping upgrade: seaborn in /home/smb/anaconda3/lib/python3.6/site-packages (from detect-simpsons-paradox==0.2) (0.8.1)\n",
      "Requirement already satisfied, skipping upgrade: pandas in /home/smb/anaconda3/lib/python3.6/site-packages (from detect-simpsons-paradox==0.2) (0.22.0)\n",
      "Requirement already satisfied, skipping upgrade: fairsim in /home/smb/anaconda3/lib/python3.6/site-packages (from detect-simpsons-paradox==0.2) (0.1)\n",
      "Requirement already satisfied, skipping upgrade: flask in /home/smb/anaconda3/lib/python3.6/site-packages (from detect-simpsons-paradox==0.2) (0.12.2)\n",
      "Requirement already satisfied, skipping upgrade: six>=1.10 in /home/smb/anaconda3/lib/python3.6/site-packages (from matplotlib->detect-simpsons-paradox==0.2) (1.11.0)\n",
      "Requirement already satisfied, skipping upgrade: cycler>=0.10 in /home/smb/anaconda3/lib/python3.6/site-packages (from matplotlib->detect-simpsons-paradox==0.2) (0.10.0)\n",
      "Requirement already satisfied, skipping upgrade: pyparsing!=2.0.4,!=2.1.2,!=2.1.6,>=2.0.1 in /home/smb/anaconda3/lib/python3.6/site-packages (from matplotlib->detect-simpsons-paradox==0.2) (2.2.0)\n",
      "Requirement already satisfied, skipping upgrade: python-dateutil>=2.1 in /home/smb/anaconda3/lib/python3.6/site-packages (from matplotlib->detect-simpsons-paradox==0.2) (2.6.1)\n",
      "Requirement already satisfied, skipping upgrade: pytz in /home/smb/anaconda3/lib/python3.6/site-packages (from matplotlib->detect-simpsons-paradox==0.2) (2018.3)\n",
      "Requirement already satisfied, skipping upgrade: kiwisolver>=1.0.1 in /home/smb/anaconda3/lib/python3.6/site-packages (from matplotlib->detect-simpsons-paradox==0.2) (1.0.1)\n",
      "Requirement already satisfied, skipping upgrade: Werkzeug>=0.7 in /home/smb/anaconda3/lib/python3.6/site-packages (from flask->detect-simpsons-paradox==0.2) (0.14.1)\n",
      "Requirement already satisfied, skipping upgrade: Jinja2>=2.4 in /home/smb/anaconda3/lib/python3.6/site-packages (from flask->detect-simpsons-paradox==0.2) (2.10)\n",
      "Requirement already satisfied, skipping upgrade: itsdangerous>=0.21 in /home/smb/anaconda3/lib/python3.6/site-packages (from flask->detect-simpsons-paradox==0.2) (0.24)\n",
      "Requirement already satisfied, skipping upgrade: click>=2.0 in /home/smb/anaconda3/lib/python3.6/site-packages (from flask->detect-simpsons-paradox==0.2) (6.7)\n",
      "Requirement already satisfied, skipping upgrade: setuptools in /home/smb/anaconda3/lib/python3.6/site-packages (from kiwisolver>=1.0.1->matplotlib->detect-simpsons-paradox==0.2) (38.5.2)\n",
      "Requirement already satisfied, skipping upgrade: MarkupSafe>=0.23 in /home/smb/anaconda3/lib/python3.6/site-packages (from Jinja2>=2.4->flask->detect-simpsons-paradox==0.2) (1.0)\n",
      "Building wheels for collected packages: detect-simpsons-paradox\n",
      "  Running setup.py bdist_wheel for detect-simpsons-paradox: started\n",
      "  Running setup.py bdist_wheel for detect-simpsons-paradox: finished with status 'done'\n",
      "  Stored in directory: /tmp/pip-ephem-wheel-cache-spda73j_/wheels/6f/33/e5/2e2b04658a9facaec056625f497ea9c4a21448cb987ce85d62\n",
      "Successfully built detect-simpsons-paradox\n",
      "Installing collected packages: detect-simpsons-paradox\n",
      "  Found existing installation: detect-simpsons-paradox 0.2\n",
      "    Uninstalling detect-simpsons-paradox-0.2:\n",
      "      Successfully uninstalled detect-simpsons-paradox-0.2\n",
      "Successfully installed detect-simpsons-paradox-0.2\n"
     ]
    },
    {
     "name": "stderr",
     "output_type": "stream",
     "text": [
      "You are using pip version 18.0, however version 18.1 is available.\n",
      "You should consider upgrading via the 'pip install --upgrade pip' command.\n"
     ]
    }
   ],
   "source": [
    "%%bash\n",
    "cd .. \n",
    "pip install . --upgrade"
   ]
  },
  {
   "cell_type": "code",
   "execution_count": 3,
   "metadata": {},
   "outputs": [],
   "source": [
    "import detect_simpsons_paradox as dsp\n",
    "import fairsim as sp_dat \n",
    "#warnings.simplefilter(action='ignore', category=FutureWarning)"
   ]
  },
  {
   "cell_type": "markdown",
   "metadata": {},
   "source": [
    "# Dataset Generation"
   ]
  },
  {
   "cell_type": "code",
   "execution_count": 4,
   "metadata": {},
   "outputs": [],
   "source": [
    "# Use geometric construction of SP from GMM\n",
    "\n",
    "r_clusters = -.6  # correlation coefficient of clusters\n",
    "cluster_spread = .8 # pearson correlation of means\n",
    "p_sp_clusters = .5 # portion of clusters with SP \n",
    "k = 5 # number of clusters\n",
    "cluster_size = [2,3]\n",
    "domain_range = [0, 20, 0, 20]\n",
    "N = 200 # number of points\n",
    "p_clusters = [1.0/k]*k\n",
    "\n",
    "sp_df2 = sp_dat.geometric_2d_gmm_sp(r_clusters,cluster_size,cluster_spread,\n",
    "                                    p_sp_clusters, domain_range,k,N,p_clusters)\n",
    "#mixed_regression_sp(N,mu,cov,[.7,.3])"
   ]
  },
  {
   "cell_type": "code",
   "execution_count": 5,
   "metadata": {},
   "outputs": [
    {
     "data": {
      "text/html": [
       "<div>\n",
       "<style scoped>\n",
       "    .dataframe tbody tr th:only-of-type {\n",
       "        vertical-align: middle;\n",
       "    }\n",
       "\n",
       "    .dataframe tbody tr th {\n",
       "        vertical-align: top;\n",
       "    }\n",
       "\n",
       "    .dataframe thead th {\n",
       "        text-align: right;\n",
       "    }\n",
       "</style>\n",
       "<table border=\"1\" class=\"dataframe\">\n",
       "  <thead>\n",
       "    <tr style=\"text-align: right;\">\n",
       "      <th></th>\n",
       "      <th>x1</th>\n",
       "      <th>x2</th>\n",
       "      <th>color</th>\n",
       "    </tr>\n",
       "  </thead>\n",
       "  <tbody>\n",
       "    <tr>\n",
       "      <th>0</th>\n",
       "      <td>11.977708</td>\n",
       "      <td>9.551939</td>\n",
       "      <td>0</td>\n",
       "    </tr>\n",
       "    <tr>\n",
       "      <th>1</th>\n",
       "      <td>13.750940</td>\n",
       "      <td>13.735638</td>\n",
       "      <td>2</td>\n",
       "    </tr>\n",
       "    <tr>\n",
       "      <th>2</th>\n",
       "      <td>6.652990</td>\n",
       "      <td>4.315186</td>\n",
       "      <td>3</td>\n",
       "    </tr>\n",
       "    <tr>\n",
       "      <th>3</th>\n",
       "      <td>4.277728</td>\n",
       "      <td>9.848916</td>\n",
       "      <td>1</td>\n",
       "    </tr>\n",
       "    <tr>\n",
       "      <th>4</th>\n",
       "      <td>7.385700</td>\n",
       "      <td>4.078566</td>\n",
       "      <td>3</td>\n",
       "    </tr>\n",
       "  </tbody>\n",
       "</table>\n",
       "</div>"
      ],
      "text/plain": [
       "          x1         x2  color\n",
       "0  11.977708   9.551939      0\n",
       "1  13.750940  13.735638      2\n",
       "2   6.652990   4.315186      3\n",
       "3   4.277728   9.848916      1\n",
       "4   7.385700   4.078566      3"
      ]
     },
     "execution_count": 5,
     "metadata": {},
     "output_type": "execute_result"
    }
   ],
   "source": [
    "sp_df2.head()"
   ]
  },
  {
   "cell_type": "markdown",
   "metadata": {},
   "source": [
    "# Extract contiunous variables and categorical variables\n",
    "\n",
    "Categorical attributes' types contain 'object' and 'int64'.\n",
    "Continuous attributes' type contains float64."
   ]
  },
  {
   "cell_type": "code",
   "execution_count": 7,
   "metadata": {},
   "outputs": [
    {
     "name": "stdout",
     "output_type": "stream",
     "text": [
      "  feat1 feat2  agg_trend    trend_type\n",
      "0    x1    x2   0.777088  pearson_corr\n",
      "  feat1 feat2  subgroup_trend group_feat  subgroup    trend_type\n",
      "0    x1    x2       -0.609661      color         0  pearson_corr\n",
      "1    x1    x2       -0.693888      color         1  pearson_corr\n",
      "2    x1    x2       -0.423995      color         2  pearson_corr\n",
      "3    x1    x2        0.463856      color         3  pearson_corr\n",
      "4    x1    x2        0.458352      color         4  pearson_corr\n"
     ]
    }
   ],
   "source": [
    "df = dsp.get_subgroup_trends(sp_df2,['pearson_corr'])"
   ]
  },
  {
   "cell_type": "code",
   "execution_count": 8,
   "metadata": {},
   "outputs": [
    {
     "data": {
      "text/html": [
       "<div>\n",
       "<style scoped>\n",
       "    .dataframe tbody tr th:only-of-type {\n",
       "        vertical-align: middle;\n",
       "    }\n",
       "\n",
       "    .dataframe tbody tr th {\n",
       "        vertical-align: top;\n",
       "    }\n",
       "\n",
       "    .dataframe thead th {\n",
       "        text-align: right;\n",
       "    }\n",
       "</style>\n",
       "<table border=\"1\" class=\"dataframe\">\n",
       "  <thead>\n",
       "    <tr style=\"text-align: right;\">\n",
       "      <th></th>\n",
       "      <th>feat1</th>\n",
       "      <th>feat2</th>\n",
       "      <th>subgroup_trend</th>\n",
       "      <th>group_feat</th>\n",
       "      <th>subgroup</th>\n",
       "      <th>trend_type</th>\n",
       "      <th>agg_trend</th>\n",
       "    </tr>\n",
       "  </thead>\n",
       "  <tbody>\n",
       "    <tr>\n",
       "      <th>0</th>\n",
       "      <td>x1</td>\n",
       "      <td>x2</td>\n",
       "      <td>-0.609661</td>\n",
       "      <td>color</td>\n",
       "      <td>0</td>\n",
       "      <td>pearson_corr</td>\n",
       "      <td>0.777088</td>\n",
       "    </tr>\n",
       "    <tr>\n",
       "      <th>1</th>\n",
       "      <td>x1</td>\n",
       "      <td>x2</td>\n",
       "      <td>-0.693888</td>\n",
       "      <td>color</td>\n",
       "      <td>1</td>\n",
       "      <td>pearson_corr</td>\n",
       "      <td>0.777088</td>\n",
       "    </tr>\n",
       "    <tr>\n",
       "      <th>2</th>\n",
       "      <td>x1</td>\n",
       "      <td>x2</td>\n",
       "      <td>-0.423995</td>\n",
       "      <td>color</td>\n",
       "      <td>2</td>\n",
       "      <td>pearson_corr</td>\n",
       "      <td>0.777088</td>\n",
       "    </tr>\n",
       "    <tr>\n",
       "      <th>3</th>\n",
       "      <td>x1</td>\n",
       "      <td>x2</td>\n",
       "      <td>0.463856</td>\n",
       "      <td>color</td>\n",
       "      <td>3</td>\n",
       "      <td>pearson_corr</td>\n",
       "      <td>0.777088</td>\n",
       "    </tr>\n",
       "    <tr>\n",
       "      <th>4</th>\n",
       "      <td>x1</td>\n",
       "      <td>x2</td>\n",
       "      <td>0.458352</td>\n",
       "      <td>color</td>\n",
       "      <td>4</td>\n",
       "      <td>pearson_corr</td>\n",
       "      <td>0.777088</td>\n",
       "    </tr>\n",
       "  </tbody>\n",
       "</table>\n",
       "</div>"
      ],
      "text/plain": [
       "  feat1 feat2  subgroup_trend group_feat  subgroup    trend_type  agg_trend\n",
       "0    x1    x2       -0.609661      color         0  pearson_corr   0.777088\n",
       "1    x1    x2       -0.693888      color         1  pearson_corr   0.777088\n",
       "2    x1    x2       -0.423995      color         2  pearson_corr   0.777088\n",
       "3    x1    x2        0.463856      color         3  pearson_corr   0.777088\n",
       "4    x1    x2        0.458352      color         4  pearson_corr   0.777088"
      ]
     },
     "execution_count": 8,
     "metadata": {},
     "output_type": "execute_result"
    }
   ],
   "source": [
    "df.head()"
   ]
  },
  {
   "cell_type": "code",
   "execution_count": 9,
   "metadata": {},
   "outputs": [
    {
     "data": {
      "text/plain": [
       "5"
      ]
     },
     "execution_count": 9,
     "metadata": {},
     "output_type": "execute_result"
    }
   ],
   "source": [
    "gb = sp_df2.groupby('color')\n",
    "len(gb)"
   ]
  },
  {
   "cell_type": "code",
   "execution_count": 15,
   "metadata": {},
   "outputs": [
    {
     "data": {
      "text/plain": [
       "(array([0]), array([1]))"
      ]
     },
     "execution_count": 15,
     "metadata": {},
     "output_type": "execute_result"
    }
   ],
   "source": [
    "tui = np.triu_indices(2,k=1)\n",
    "tui"
   ]
  },
  {
   "cell_type": "markdown",
   "metadata": {},
   "source": [
    "# TODO Visualization (Hard code modify)"
   ]
  },
  {
   "cell_type": "code",
   "execution_count": null,
   "metadata": {},
   "outputs": [],
   "source": [
    "# group by color\n",
    "grouped_df_color = latent_df.groupby('color')['x1','x2','x3'].corr()\n",
    "blue=grouped_df_color.loc['b']\n",
    "red=grouped_df_color.loc['r']\n",
    "\n",
    "# group by char\n",
    "grouped_df_char = latent_df.groupby('char')['x1','x2','x3'].corr()\n",
    "char_o=grouped_df_char.loc['o']\n",
    "char_x=grouped_df_char.loc['x']\n",
    "\n",
    "# create a 0 matrix for the irrelvant cells\n",
    "s = (len(blue),len(blue))\n",
    "zero = np.zeros(s)\n",
    "\n",
    "# manipulate the subgroup matrix first after corr() method\n",
    "color_group=np.vstack([np.hstack([blue, zero]), np.hstack([zero, red])])\n",
    "\n",
    "# create a 0 matrix for the irrelvant cells\n",
    "s = (len(all_corr),len(color_group))\n",
    "zero1 = np.zeros(s)\n",
    "\n",
    "# combine the correlation matrix of all of the data with subgroup by color\n",
    "all_combined=np.vstack([np.hstack([all_corr, zero1]), np.hstack([zero1.transpose(), color_group])])\n",
    "\n",
    "# Combine char group\n",
    "s = (len(char_o),len(char_x))\n",
    "zero = np.zeros(s)\n",
    "char_group=np.vstack([np.hstack([char_o, zero]), np.hstack([zero, char_x])])\n",
    "s = (len(all_combined),len(char_group))\n",
    "zero1 = np.zeros(s)\n",
    "all_combined=np.vstack([np.hstack([all_combined, zero1]), np.hstack([zero1.transpose(), char_group])])"
   ]
  },
  {
   "cell_type": "markdown",
   "metadata": {},
   "source": [
    "__ why a heat map?__ "
   ]
  },
  {
   "cell_type": "code",
   "execution_count": null,
   "metadata": {},
   "outputs": [],
   "source": [
    "# Generate a heatmap for correlation matrix\n",
    "cmap = mcolors.LinearSegmentedColormap.from_list('mycmap', ['red', 'white', 'blue'])\n",
    "norm = plt.Normalize(-1,1)\n",
    "\n",
    "labels =  ['x1','x2','x3','x1_b','x2_b','x3_b','x1_r','x2_r','x3_r','x1_o','x2_o','x3_o','x1_x','x2_x','x3_x']\n",
    "plt.figure(figsize=(11, 9))\n",
    "\n",
    "ax = sns.heatmap(all_combined, cmap=cmap, annot=True, fmt=\".2f\", xticklabels=labels, yticklabels=labels, linewidths=.5, norm=norm, center=0)\n",
    "\n",
    "# Offset 0.00\n",
    "for t in ax.texts: \n",
    "    if t.get_text() == '0.00':\n",
    "        t.set_text(\"\")\n",
    "plt.show()"
   ]
  },
  {
   "cell_type": "code",
   "execution_count": null,
   "metadata": {},
   "outputs": [],
   "source": []
  },
  {
   "cell_type": "code",
   "execution_count": null,
   "metadata": {},
   "outputs": [],
   "source": []
  }
 ],
 "metadata": {
  "kernelspec": {
   "display_name": "Python 3",
   "language": "python",
   "name": "python3"
  },
  "language_info": {
   "codemirror_mode": {
    "name": "ipython",
    "version": 3
   },
   "file_extension": ".py",
   "mimetype": "text/x-python",
   "name": "python",
   "nbconvert_exporter": "python",
   "pygments_lexer": "ipython3",
   "version": "3.6.4"
  }
 },
 "nbformat": 4,
 "nbformat_minor": 2
}
